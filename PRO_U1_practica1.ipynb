{
  "nbformat": 4,
  "nbformat_minor": 0,
  "metadata": {
    "colab": {
      "provenance": [],
      "toc_visible": true,
      "authorship_tag": "ABX9TyNYzTmhG+8YirXIHYFst+hO",
      "include_colab_link": true
    },
    "kernelspec": {
      "name": "python3",
      "display_name": "Python 3"
    },
    "language_info": {
      "name": "python"
    }
  },
  "cells": [
    {
      "cell_type": "markdown",
      "metadata": {
        "id": "view-in-github",
        "colab_type": "text"
      },
      "source": [
        "<a href=\"https://colab.research.google.com/github/MaximilianoCalleros/Probabilidad-y-estad-stica/blob/main/PRO_U1_practica1.ipynb\" target=\"_parent\"><img src=\"https://colab.research.google.com/assets/colab-badge.svg\" alt=\"Open In Colab\"/></a>"
      ]
    },
    {
      "cell_type": "markdown",
      "source": [
        "#Probabilidad y estadística\n",
        "##Facilitador: Jose Gabriel Rodríguez Rivas\n",
        "##Alumno: Maximiliano Calleros"
      ],
      "metadata": {
        "id": "9bbhwnN_wQT_"
      }
    },
    {
      "cell_type": "code",
      "execution_count": 1,
      "metadata": {
        "id": "cm5ulV4PuvQx"
      },
      "outputs": [],
      "source": [
        "from statistics import *"
      ]
    },
    {
      "cell_type": "code",
      "source": [
        "#Lista de calificaciones de probabilidad y estadística\n",
        "GrupoA = [70,70,65,90,100,95,45,80,73,20,100,96]\n",
        "print(GrupoA)"
      ],
      "metadata": {
        "colab": {
          "base_uri": "https://localhost:8080/"
        },
        "id": "pSB0Pwkowoog",
        "outputId": "00d2197c-219d-44d0-a3d2-cf55f0d15fe0"
      },
      "execution_count": 2,
      "outputs": [
        {
          "output_type": "stream",
          "name": "stdout",
          "text": [
            "[70, 70, 65, 90, 100, 95, 45, 80, 73, 20, 100, 96]\n"
          ]
        }
      ]
    },
    {
      "cell_type": "code",
      "source": [
        "#La función type me transmite el tipo de dato\n",
        "type(GrupoA)"
      ],
      "metadata": {
        "colab": {
          "base_uri": "https://localhost:8080/"
        },
        "id": "McKTvq4y2cBL",
        "outputId": "7fe01589-181d-47fa-8f6e-9c26c5442d58"
      },
      "execution_count": 3,
      "outputs": [
        {
          "output_type": "execute_result",
          "data": {
            "text/plain": [
              "list"
            ]
          },
          "metadata": {},
          "execution_count": 3
        }
      ]
    },
    {
      "cell_type": "code",
      "source": [
        "#Sacar el promedio con una fórmula\n",
        "Promedio=sum(GrupoA) / len(GrupoA)\n",
        "print(Promedio)"
      ],
      "metadata": {
        "colab": {
          "base_uri": "https://localhost:8080/"
        },
        "id": "i6aWctOsxtFW",
        "outputId": "758497d3-28df-49cc-a3ef-475e2d39842b"
      },
      "execution_count": 4,
      "outputs": [
        {
          "output_type": "stream",
          "name": "stdout",
          "text": [
            "75.33333333333333\n"
          ]
        }
      ]
    },
    {
      "cell_type": "code",
      "source": [
        "#Sacar promedio con una función\n",
        "Promedio2=mean(GrupoA)\n",
        "print(Promedio2)"
      ],
      "metadata": {
        "colab": {
          "base_uri": "https://localhost:8080/"
        },
        "id": "pJS10heHyfd-",
        "outputId": "39bca0d5-75c8-4d6c-b331-bf8c479144a3"
      },
      "execution_count": 5,
      "outputs": [
        {
          "output_type": "stream",
          "name": "stdout",
          "text": [
            "75.33333333333333\n"
          ]
        }
      ]
    },
    {
      "cell_type": "code",
      "source": [
        "#Determinar el valor de la mediana\n",
        "mediana=median(GrupoA)\n",
        "print(mediana)"
      ],
      "metadata": {
        "id": "TtquOVdhzcu_",
        "colab": {
          "base_uri": "https://localhost:8080/"
        },
        "outputId": "8fa2ed3f-a6f5-49a8-a2f6-709330621b62"
      },
      "execution_count": 12,
      "outputs": [
        {
          "output_type": "stream",
          "name": "stdout",
          "text": [
            "76.5\n"
          ]
        }
      ]
    },
    {
      "cell_type": "code",
      "source": [
        "#Tiempos100mts\n",
        "tiempos=[15.10,17.20,14.69,13.37,22.15,18.71,19.15,20.65,15.10,17.20]\n",
        "print(tiempos)"
      ],
      "metadata": {
        "colab": {
          "base_uri": "https://localhost:8080/"
        },
        "id": "se5mtrog58vw",
        "outputId": "196fd11c-0dc7-45c6-b692-97eb02c32cb9"
      },
      "execution_count": 7,
      "outputs": [
        {
          "output_type": "stream",
          "name": "stdout",
          "text": [
            "[15.1, 17.2, 14.69, 13.37, 22.15, 18.71, 19.15, 20.65, 15.1, 17.2]\n"
          ]
        }
      ]
    },
    {
      "cell_type": "code",
      "source": [
        "#Sacar la media de los valores con la función dentro del print\n",
        "print(\"El tiempo promedio de los corredores es\", mean(tiempos))"
      ],
      "metadata": {
        "colab": {
          "base_uri": "https://localhost:8080/"
        },
        "id": "JSLVNkal6bp7",
        "outputId": "53447f5e-d571-4b6e-c39f-f85b4421ed55"
      },
      "execution_count": 8,
      "outputs": [
        {
          "output_type": "stream",
          "name": "stdout",
          "text": [
            "El tiempo promedio de los corredores es 17.332\n"
          ]
        }
      ]
    },
    {
      "cell_type": "code",
      "source": [
        "#Sacando la mediana de los tiempos con la función median\n",
        "mediana=median(tiempos)\n",
        "print(\"La mediana de los tiempos de los corredores es =>\", mediana)"
      ],
      "metadata": {
        "colab": {
          "base_uri": "https://localhost:8080/"
        },
        "id": "yfz9Tnea7Ia6",
        "outputId": "5bcf098b-86cb-4ae6-e4cb-fefb6ad1355b"
      },
      "execution_count": 9,
      "outputs": [
        {
          "output_type": "stream",
          "name": "stdout",
          "text": [
            "La mediana de los tiempos de los corredores es => 17.2\n"
          ]
        }
      ]
    },
    {
      "cell_type": "code",
      "source": [
        "#Sacando la moda de los tiempos con la función mode\n",
        "moda=mode(tiempos)\n",
        "print(\"La moda de los tiempos es =>\", moda)"
      ],
      "metadata": {
        "colab": {
          "base_uri": "https://localhost:8080/"
        },
        "id": "euhssZHp9UnT",
        "outputId": "f413da4f-5597-4252-fff3-94f2355e7c3b"
      },
      "execution_count": 10,
      "outputs": [
        {
          "output_type": "stream",
          "name": "stdout",
          "text": [
            "La moda de los tiempos es => 15.1\n"
          ]
        }
      ]
    },
    {
      "cell_type": "code",
      "source": [
        "#Sacando varias medias con la función multimode\n",
        "multimodas=multimode(tiempos)\n",
        "print(\"Las modas de los tiempos son =>\", multimodas)"
      ],
      "metadata": {
        "colab": {
          "base_uri": "https://localhost:8080/"
        },
        "id": "DJ47BIwV9wNZ",
        "outputId": "b7ba7862-1087-4279-a2a3-a63be4fe7f43"
      },
      "execution_count": 11,
      "outputs": [
        {
          "output_type": "stream",
          "name": "stdout",
          "text": [
            "Las modas de los tiempos son => [15.1, 17.2]\n"
          ]
        }
      ]
    },
    {
      "cell_type": "markdown",
      "source": [
        "##Ejemplo 3. Histograma de 2 grupos\n",
        "\n",
        "1. En este ejemplo generamos 100 numeros aleatorios reales que representa la producción diaria de 100 telares (medidas en metros).\n",
        "2. Generar otera lista con la producción de 100 telares para una segunda fabrica.\n",
        "3. Con esta lista de valores se pretende determinar las medidas de tendencia central, la media, la moda, la mdeiana, la desviación estandar.\n",
        "4. Graficar un histograma para cada fabrica."
      ],
      "metadata": {
        "id": "ozewSEKelDvm"
      }
    },
    {
      "cell_type": "code",
      "source": [
        "#Libreria para generar valores aleatorios\n",
        "import random"
      ],
      "metadata": {
        "id": "-uDj10iylVIO"
      },
      "execution_count": 13,
      "outputs": []
    },
    {
      "cell_type": "code",
      "source": [
        "fabrica1=[]\n",
        "for i in range(100):\n",
        "  numero_aleatorio = round(random.uniform(50,100),2)\n",
        "  fabrica1.append(numero_aleatorio)\n",
        "print(fabrica1)"
      ],
      "metadata": {
        "colab": {
          "base_uri": "https://localhost:8080/"
        },
        "id": "_FuKVcddlmJ2",
        "outputId": "eae8ebfc-c8a0-4667-e1ef-0fc4e430a488"
      },
      "execution_count": 29,
      "outputs": [
        {
          "output_type": "stream",
          "name": "stdout",
          "text": [
            "[85.37, 51.34, 81.07, 81.72, 88.48, 68.96, 82.41, 56.85, 79.65, 71.91, 58.86, 78.4, 92.61, 67.66, 79.41, 69.87, 59.75, 73.77, 68.3, 66.75, 78.19, 72.02, 76.45, 64.69, 83.64, 78.87, 76.21, 88.25, 88.88, 53.66, 67.3, 69.0, 88.4, 50.04, 53.99, 99.13, 62.88, 75.44, 74.57, 88.96, 58.79, 78.5, 90.0, 95.12, 72.32, 78.15, 95.64, 97.03, 85.36, 92.34, 67.95, 97.34, 73.51, 58.85, 81.99, 82.83, 62.53, 84.18, 59.17, 66.18, 60.49, 93.93, 98.86, 84.42, 94.6, 58.12, 54.25, 62.57, 88.08, 99.04, 68.81, 77.77, 63.81, 55.42, 77.31, 53.05, 64.18, 92.33, 55.11, 84.26, 84.86, 89.03, 51.5, 86.58, 79.73, 65.56, 71.09, 60.52, 57.77, 63.65, 65.36, 56.47, 95.45, 94.55, 76.49, 68.82, 52.34, 60.78, 82.42, 73.79]\n"
          ]
        }
      ]
    },
    {
      "cell_type": "code",
      "source": [
        "fabrica2=[]\n",
        "for i in range(100):\n",
        "  numero_aleatorio2 = round(random.uniform(50,100),2)\n",
        "  fabrica2.append(numero_aleatorio2)\n",
        "print(fabrica2)"
      ],
      "metadata": {
        "colab": {
          "base_uri": "https://localhost:8080/"
        },
        "id": "-pizPATZoasg",
        "outputId": "2970a747-adf0-4749-d85f-dd1be7b3e851"
      },
      "execution_count": 23,
      "outputs": [
        {
          "output_type": "stream",
          "name": "stdout",
          "text": [
            "[81.66, 60.2, 52.28, 80.53, 68.62, 78.04, 88.42, 74.86, 51.76, 59.93, 78.1, 92.23, 90.25, 60.02, 59.08, 96.25, 57.91, 95.85, 59.26, 65.43, 92.4, 62.03, 53.86, 62.55, 61.78, 76.37, 83.95, 74.61, 58.86, 95.84, 62.0, 57.71, 53.43, 95.85, 89.85, 96.58, 96.78, 70.32, 73.18, 83.97, 80.13, 58.75, 98.85, 55.28, 85.07, 50.76, 99.46, 55.24, 70.53, 64.24, 81.2, 90.7, 99.04, 99.98, 66.16, 52.35, 82.69, 90.19, 96.95, 59.11, 93.19, 64.01, 65.26, 88.84, 73.6, 57.37, 91.98, 79.45, 60.29, 67.84, 98.01, 92.4, 58.87, 70.38, 96.49, 94.88, 77.65, 52.7, 62.06, 95.96, 93.87, 53.99, 94.04, 70.31, 82.55, 54.4, 58.48, 57.51, 73.1, 79.48, 98.28, 76.4, 85.34, 64.53, 95.39, 59.79, 74.07, 98.35, 94.02, 92.09]\n"
          ]
        }
      ]
    },
    {
      "cell_type": "code",
      "source": [
        "#Libreria de pyton para graficar valores\n",
        "import matplotlib.pyplot as plt"
      ],
      "metadata": {
        "id": "ILMWua8spCB4"
      },
      "execution_count": 24,
      "outputs": []
    },
    {
      "cell_type": "code",
      "source": [
        "plt.hist(fabrica1)\n",
        "plt.title(\"Produccion diaria de la fabrica 1\")"
      ],
      "metadata": {
        "colab": {
          "base_uri": "https://localhost:8080/",
          "height": 469
        },
        "id": "dNJwiFqbpQyp",
        "outputId": "4959ddca-ca8a-4cee-bc11-3c207f36b281"
      },
      "execution_count": 31,
      "outputs": [
        {
          "output_type": "execute_result",
          "data": {
            "text/plain": [
              "Text(0.5, 1.0, 'Produccion diaria de la fabrica 1')"
            ]
          },
          "metadata": {},
          "execution_count": 31
        },
        {
          "output_type": "display_data",
          "data": {
            "text/plain": [
              "<Figure size 640x480 with 1 Axes>"
            ],
            "image/png": "[encoded data removed]"
          },
          "metadata": {}
        }
      ]
    },
    {
      "cell_type": "code",
      "source": [
        "plt.hist(fabrica2)\n",
        "plt.title(\"Produccion diaria de la fabrica 2\")"
      ],
      "metadata": {
        "colab": {
          "base_uri": "https://localhost:8080/",
          "height": 469
        },
        "outputId": "0546b8f0-9be2-43b3-aab1-7113b18726ac",
        "id": "RDkt0rIWqbjX"
      },
      "execution_count": 32,
      "outputs": [
        {
          "output_type": "execute_result",
          "data": {
            "text/plain": [
              "Text(0.5, 1.0, 'Produccion diaria de la fabrica 2')"
            ]
          },
          "metadata": {},
          "execution_count": 32
        },
        {
          "output_type": "display_data",
          "data": {
            "text/plain": [
              "<Figure size 640x480 with 1 Axes>"
            ],
            "image/png": "[encoded data removed]"
          },
          "metadata": {}
        }
      ]
    },
    {
      "cell_type": "code",
      "source": [
        "media=mean(fabrica1)\n",
        "mediana=median(fabrica1)\n",
        "moda=mode(fabrica1)\n",
        "print(\"Valores de la fabrica 1\")\n",
        "print(\"La media=\", media)\n",
        "print(\"La mediana es =\", mediana)\n",
        "print(\"La moda es =\", moda)"
      ],
      "metadata": {
        "colab": {
          "base_uri": "https://localhost:8080/"
        },
        "id": "tybtwzg0q1Ui",
        "outputId": "f8cc1c69-8636-44a0-e8fe-e5cc2d5b98aa"
      },
      "execution_count": 33,
      "outputs": [
        {
          "output_type": "stream",
          "name": "stdout",
          "text": [
            "Valores de la fabrica 1\n",
            "La media= 74.5466\n",
            "La mediana es = 75.005\n",
            "La moda es = 85.37\n"
          ]
        }
      ]
    },
    {
      "cell_type": "code",
      "source": [
        "media=mean(fabrica2)\n",
        "mediana=median(fabrica2)\n",
        "moda=mode(fabrica2)\n",
        "print(\"Valores de la fabrica 2\")\n",
        "print(\"La media=\", media)\n",
        "print(\"La mediana es =\", mediana)\n",
        "print(\"La moda es =\", moda)"
      ],
      "metadata": {
        "colab": {
          "base_uri": "https://localhost:8080/"
        },
        "outputId": "ea2f9b99-c8b0-4bd3-df63-f76eede3cc56",
        "id": "Defzwb9Rr4BA"
      },
      "execution_count": 34,
      "outputs": [
        {
          "output_type": "stream",
          "name": "stdout",
          "text": [
            "Valores de la fabrica 2\n",
            "La media= 75.865\n",
            "La mediana es = 75.61500000000001\n",
            "La moda es = 95.85\n"
          ]
        }
      ]
    },
    {
      "cell_type": "code",
      "source": [
        "# Generar 2 subplot de 1 renglon pr 2 columnas para desplegar los 2 histogramas, uno al lado del otro\n",
        "fig, (ax1, ax2) = plt.subplots(nrows=1, ncols=2)"
      ],
      "metadata": {
        "colab": {
          "base_uri": "https://localhost:8080/",
          "height": 435
        },
        "id": "Te8MDEztsJGJ",
        "outputId": "7e2e51f4-e250-4126-9b54-49b9e6b41e2c"
      },
      "execution_count": 40,
      "outputs": [
        {
          "output_type": "display_data",
          "data": {
            "text/plain": [
              "<Figure size 640x480 with 2 Axes>"
            ],
            "image/png": "[encoded data removed]"
          },
          "metadata": {}
        }
      ]
    },
    {
      "cell_type": "code",
      "source": [
        "# Generar 2 subplot de 1 renglon pr 2 columnas para desplegar los 2 histogramas, uno al lado del otro\n",
        "fig, (ax1, ax2) = plt.subplots(nrows=1, ncols=2, figsize=(10,5))\n",
        "ax1.hist(fabrica1)\n",
        "ax2.hist(fabrica2)\n",
        "plt.show()"
      ],
      "metadata": {
        "colab": {
          "base_uri": "https://localhost:8080/",
          "height": 445
        },
        "id": "ct5HuLFNtNYb",
        "outputId": "671cdb53-f21b-447f-df4b-76425692c786"
      },
      "execution_count": 42,
      "outputs": [
        {
          "output_type": "display_data",
          "data": {
            "text/plain": [
              "<Figure size 1000x500 with 2 Axes>"
            ],
            "image/png": "[encoded data removed]"
          },
          "metadata": {}
        }
      ]
    },
    {
      "cell_type": "code",
      "source": [
        "#Valor minimo, maximo, rango\n",
        "media1=mean(fabrica1)\n",
        "mediana1=median(fabrica1)\n",
        "moda1=mode(fabrica1)"
      ],
      "metadata": {
        "id": "XKheZVFNuyUp"
      },
      "execution_count": 43,
      "outputs": []
    },
    {
      "cell_type": "code",
      "source": [
        "plt.hist(fabrica1, bins=20,alpha=0.2, color='b',edgecolor=\"black\")\n",
        "plt.axvline(media1, color='b', linestyle='dashed', linewidth=2, label='Media')\n",
        "plt.axvline(mediana1, color='r', linestyle='dashed', linewidth=2, label='Mediana')\n",
        "plt.axvline(moda1, color='y', linestyle='dashed', linewidth=2, label='Moda')\n",
        "plt.xlabel('Valor')\n",
        "plt.ylabel('Frecuencia')\n",
        "plt.title(\"Producción diaria de la fabrica 1\")\n",
        "plt.legend()\n",
        "plt.show()"
      ],
      "metadata": {
        "colab": {
          "base_uri": "https://localhost:8080/",
          "height": 472
        },
        "id": "pB-MFW1jt-PQ",
        "outputId": "f6f4389f-07ed-406c-e64e-88400b9f66c7"
      },
      "execution_count": 50,
      "outputs": [
        {
          "output_type": "display_data",
          "data": {
            "text/plain": [
              "<Figure size 640x480 with 1 Axes>"
            ],
            "image/png": "[encoded data removed]"
          },
          "metadata": {}
        }
      ]
    },
    {
      "cell_type": "code",
      "source": [
        "media2=mean(fabrica2)\n",
        "mediana2=median(fabrica2)\n",
        "moda2=mode(fabrica2)\n",
        "\n",
        "plt.hist(fabrica2, bins=10,alpha=0.2, color='b',edgecolor=\"black\")\n",
        "plt.axvline(media2, color='b', linestyle='dashed', linewidth=2, label='Media')\n",
        "plt.axvline(mediana2, color='r', linestyle='dashed', linewidth=2, label='Mediana')\n",
        "plt.axvline(moda2, color='y', linestyle='dashed', linewidth=2, label='Moda')\n",
        "plt.xlabel('Valor')\n",
        "plt.ylabel('Frecuencia')\n",
        "plt.title(\"Producción diaria de la fabrica 2\")\n",
        "plt.legend()\n",
        "plt.show()"
      ],
      "metadata": {
        "colab": {
          "base_uri": "https://localhost:8080/",
          "height": 472
        },
        "outputId": "23084e06-a1da-4356-d4a1-6754dc896992",
        "id": "lIeMpkeuw4LT"
      },
      "execution_count": 49,
      "outputs": [
        {
          "output_type": "display_data",
          "data": {
            "text/plain": [
              "<Figure size 640x480 with 1 Axes>"
            ],
            "image/png": "[encoded data removed]"
          },
          "metadata": {}
        }
      ]
    }
  ]
}